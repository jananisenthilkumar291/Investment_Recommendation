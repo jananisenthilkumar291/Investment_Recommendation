{
 "cells": [
  {
   "cell_type": "code",
   "execution_count": 1,
   "metadata": {
    "vscode": {
     "languageId": "python"
    }
   },
   "outputs": [],
   "source": [
    "import requests"
   ]
  },
  {
   "cell_type": "code",
   "execution_count": 2,
   "metadata": {
    "vscode": {
     "languageId": "python"
    }
   },
   "outputs": [],
   "source": [
    "# import requests\n",
    "# import json\n",
    "\n",
    "# # Define the Ollama server URL\n",
    "# ollama_url = \"http://127.0.0.1:11434/api/generate\"\n",
    "\n",
    "# # Test connection to Ollama\n",
    "# def test_connection():\n",
    "#     # Simple payload with a basic prompt\n",
    "#     payload = {\n",
    "#         \"model\": \"llama2\",\n",
    "#         \"prompt\": \"Hello, how are you?\"\n",
    "#     }\n",
    "    \n",
    "#     try:\n",
    "#         response = requests.post(ollama_url, json=payload, stream=True)\n",
    "        \n",
    "#         # Process the response line by line\n",
    "#         print(\"Connection successful! Streamed response:\")\n",
    "#         for line in response.iter_lines():\n",
    "#             if line:\n",
    "#                 try:\n",
    "#                     # Parse each line as a separate JSON object\n",
    "#                     data = json.loads(line.decode('utf-8'))\n",
    "#                     print(\"Partial response:\", data, data.get(\"response\"))\n",
    "#                 except json.JSONDecodeError as e:\n",
    "#                     print(\"JSON decoding error:\", e)\n",
    "                    \n",
    "#     except Exception as e:\n",
    "#         print(\"Error connecting to Ollama:\", str(e))\n",
    "\n",
    "# # Run the connection test\n",
    "# test_connection()\n"
   ]
  },
  {
   "cell_type": "code",
   "execution_count": 3,
   "metadata": {
    "vscode": {
     "languageId": "python"
    }
   },
   "outputs": [],
   "source": [
    "# import requests\n",
    "# import json\n",
    "\n",
    "# # Define the Ollama server URL\n",
    "# ollama_url = \"http://127.0.0.1:11434/api/generate\"\n",
    "\n",
    "# # Test connection to Ollama\n",
    "# def test_connection():\n",
    "#     # Simple payload with a basic prompt\n",
    "#     payload = {\n",
    "#         \"model\": \"llama2\",\n",
    "#         \"prompt\": \"Hello, how are you?\"\n",
    "#     }\n",
    "    \n",
    "#     try:\n",
    "#         response = requests.post(ollama_url, json=payload, stream=True)\n",
    "        \n",
    "#         # Process the response line by line\n",
    "#         print(\"Connection successful! Streamed response:\")\n",
    "#         for line in response.iter_lines():\n",
    "#             if line:\n",
    "#                 try:\n",
    "#                     # Parse each line as a separate JSON object\n",
    "#                     data = json.loads(line.decode('utf-8'))\n",
    "#                     print(\"Partial response:\", data.get(\"response\"))\n",
    "#                 except json.JSONDecodeError as e:\n",
    "#                     print(\"JSON decoding error:\", e)\n",
    "                    \n",
    "#     except Exception as e:\n",
    "#         print(\"Error connecting to Ollama:\", str(e))\n",
    "\n",
    "# # Run the connection test\n",
    "# test_connection()\n"
   ]
  },
  {
   "cell_type": "code",
   "execution_count": 4,
   "metadata": {
    "vscode": {
     "languageId": "python"
    }
   },
   "outputs": [
    {
     "name": "stdout",
     "output_type": "stream",
     "text": [
      "Final response: \n",
      "Of course, I'd be happy to help! Can you provide the text you'd like me to summarize and analyze the sentiment of? Alternatively, if you have a specific question or topic in mind, I can try to help you with that as well.\n"
     ]
    }
   ],
   "source": [
    "import requests\n",
    "import json\n",
    "\n",
    "# Define the Ollama server URL\n",
    "ollama_url = \"http://127.0.0.1:11434/api/generate\"\n",
    "\n",
    "# Test connection to Ollama and gather the response in one line\n",
    "def test_connection():\n",
    "    # Simple payload with a basic prompt\n",
    "    payload = {\n",
    "        \"model\": \"llama2\",\n",
    "        \"prompt\": \"Can you help me build summarize a text and further go on and find it's sentiment?\"\n",
    "    }\n",
    "    \n",
    "    try:\n",
    "        response = requests.post(ollama_url, json=payload, stream=True)\n",
    "        \n",
    "        # Collect each partial response into a list\n",
    "        full_response = []\n",
    "        \n",
    "        for line in response.iter_lines():\n",
    "            if line:\n",
    "                try:\n",
    "                    # Parse each line as a separate JSON object\n",
    "                    data = json.loads(line.decode('utf-8'))\n",
    "                    # Append the \"response\" field to the list\n",
    "                    partial_response = data.get(\"response\", \"\")\n",
    "                    full_response.append(partial_response)\n",
    "                except json.JSONDecodeError as e:\n",
    "                    print(\"JSON decoding error:\", e)\n",
    "        \n",
    "        # Join all parts into a single string\n",
    "        final_response = \"\".join(full_response)\n",
    "        print(\"Final response:\", final_response)\n",
    "        \n",
    "    except Exception as e:\n",
    "        print(\"Error connecting to Ollama:\", str(e))\n",
    "\n",
    "# Run the connection test\n",
    "test_connection()\n"
   ]
  },
  {
   "cell_type": "code",
   "execution_count": 5,
   "metadata": {
    "vscode": {
     "languageId": "python"
    }
   },
   "outputs": [
    {
     "name": "stdout",
     "output_type": "stream",
     "text": [
      "Summary: OpenAI's GPT-4 model has advanced the capabilities of language models, impressing users with its accuracy and versatility across various tasks. While it shows significant improvements over previous models, it is not perfect and may occasionally produce incorrect responses.\n",
      "Sentiment: {'neg': '0.3', 'neu': '0.5', 'pos': '0.8', 'compound': '0.6'}\n"
     ]
    }
   ],
   "source": [
    "import requests\n",
    "import json\n",
    "import re\n",
    "\n",
    "ollama_url = \"http://127.0.0.1:11434/api/generate\"\n",
    "\n",
    "def summarize_text(text):\n",
    "    payload = {\n",
    "        \"model\": \"llama2\",\n",
    "        \"prompt\": f\"Summarize the following text:\\n\\n{text}\\n\\nSummary:\"\n",
    "    }\n",
    "    \n",
    "    response = requests.post(ollama_url, json=payload, stream=True)\n",
    "    full_response = []\n",
    "    \n",
    "    for line in response.iter_lines():\n",
    "        if line:\n",
    "            data = json.loads(line.decode('utf-8'))\n",
    "            partial_response = data.get(\"response\", \"\")\n",
    "            full_response.append(partial_response)\n",
    "    # print('Summary ',\"\".join(full_response))\n",
    "    return \"\".join(full_response)\n",
    "\n",
    "def analyze_sentiment(text):\n",
    "    payload = {\n",
    "        \"model\": \"llama2\",\n",
    "        \"prompt\": f\"Analyze the sentiment of the following text and provide just the sentiment scores in the format {{'neg': , 'neu': , 'pos': , 'compound': }}:\\n\\n{text}\\n\\nSentiment Scores: in 2 decimals . Please do not output any other text in your response\"\n",
    "    }\n",
    "    \n",
    "    response = requests.post(ollama_url, json=payload, stream=True)\n",
    "    full_response = []\n",
    "    \n",
    "    for line in response.iter_lines():\n",
    "        if line:\n",
    "            data = json.loads(line.decode('utf-8'))\n",
    "            partial_response = data.get(\"response\", \"\")\n",
    "            full_response.append(partial_response)\n",
    "    \n",
    "    response_text = \"\".join(full_response)\n",
    "\n",
    "    scores = {\n",
    "        \"neg\": 0.0,\n",
    "        \"neu\": 0.0,\n",
    "        \"pos\": 0.0,\n",
    "        \"compound\": 0.0\n",
    "    }\n",
    "    \n",
    "    match = re.search(r\"\\{(.*)\\}\", response_text)\n",
    "    # scores['neg'] = match.group(1).split(',')[0].split(': ')[1]\n",
    "    # sent_scores = [match.group(1).split(',')[i].split(': ')[1] for i in [0,1,2,3]]\n",
    "    # print(match.group(1))\n",
    "    if not match:\n",
    "        return scores\n",
    "    if len(match.group(1).split(',')) > 0:\n",
    "        scores['neg'] = match.group(1).split(',')[0].split(': ')[1]\n",
    "    if len(match.group(1).split(',')) > 1:\n",
    "        scores['neu'] = match.group(1).split(',')[1].split(': ')[1]\n",
    "    if len(match.group(1).split(',')) > 2:\n",
    "        scores['pos'] = match.group(1).split(',')[2].split(': ')[1]\n",
    "    if len(match.group(1).split(',')) > 3:\n",
    "        scores['compound'] = match.group(1).split(',')[3].split(': ')[1]\n",
    "    # print(scores)\n",
    "    \n",
    "    return scores\n",
    "\n",
    "text = \"\"\"\n",
    "OpenAI's GPT-4 model has significantly improved the capabilities of language models.\n",
    "Users find it more accurate and versatile, making it suitable for both casual and professional tasks.\n",
    "However, it still has limitations and can sometimes generate incorrect responses.\n",
    "\"\"\"\n",
    "\n",
    "summary = summarize_text(text)\n",
    "print(\"Summary:\", summary)\n",
    "\n",
    "sentiment = analyze_sentiment(summary)\n",
    "print(\"Sentiment:\", sentiment)"
   ]
  },
  {
   "cell_type": "code",
   "execution_count": 6,
   "metadata": {
    "vscode": {
     "languageId": "python"
    }
   },
   "outputs": [
    {
     "name": "stdout",
     "output_type": "stream",
     "text": [
      "Checking for null values\n"
     ]
    },
    {
     "data": {
      "text/plain": [
       "{'abstract': 3,\n",
       " 'snippet': 20,\n",
       " 'lead_paragraph': 14,\n",
       " 'pub_date': 0,\n",
       " 'main': 0,\n",
       " 'kicker': 1569,\n",
       " 'print_headline': 0}"
      ]
     },
     "metadata": {},
     "output_type": "display_data"
    },
    {
     "name": "stdout",
     "output_type": "stream",
     "text": [
      "Removing NULL values\n"
     ]
    },
    {
     "name": "stderr",
     "output_type": "stream",
     "text": [
      "C:\\Users\\janan\\AppData\\Local\\Temp\\ipykernel_5064\\1103216963.py:11: FutureWarning: A value is trying to be set on a copy of a DataFrame or Series through chained assignment using an inplace method.\n",
      "The behavior will change in pandas 3.0. This inplace method will never work because the intermediate object on which we are setting values always behaves as a copy.\n",
      "\n",
      "For example, when doing 'df[col].method(value, inplace=True)', try using 'df.method({col: value}, inplace=True)' or df[col] = df[col].method(value) instead, to perform the operation inplace on the original object.\n",
      "\n",
      "\n",
      "  display([filtered_columns_data[i].fillna('',inplace=True) for i in filtered_columns_data])\n"
     ]
    },
    {
     "data": {
      "text/plain": [
       "[None, None, None, None, None, None, None]"
      ]
     },
     "metadata": {},
     "output_type": "display_data"
    },
    {
     "name": "stdout",
     "output_type": "stream",
     "text": [
      "Checking for null values\n"
     ]
    },
    {
     "data": {
      "text/plain": [
       "{'abstract': 0,\n",
       " 'snippet': 0,\n",
       " 'lead_paragraph': 0,\n",
       " 'pub_date': 0,\n",
       " 'main': 0,\n",
       " 'kicker': 0,\n",
       " 'print_headline': 0}"
      ]
     },
     "metadata": {},
     "output_type": "display_data"
    },
    {
     "data": {
      "text/plain": [
       "Index(['abstract', 'snippet', 'lead_paragraph', 'pub_date', 'main', 'kicker',\n",
       "       'print_headline', 'text_in_article'],\n",
       "      dtype='object')"
      ]
     },
     "metadata": {},
     "output_type": "display_data"
    },
    {
     "data": {
      "text/plain": [
       "(2712, 8)"
      ]
     },
     "metadata": {},
     "output_type": "display_data"
    }
   ],
   "source": [
    "import pandas as pd\n",
    "import ast\n",
    "\n",
    "news_data = pd.read_csv('Apple_News_Articles_2013_1_2024_10.csv')\n",
    "filtered_columns_data = news_data[['abstract','snippet','lead_paragraph','headline','pub_date']]\n",
    "\n",
    "filtered_columns_data = pd.concat([filtered_columns_data.drop('headline',axis = 1),pd.json_normalize([ast.literal_eval(item) for item in list(filtered_columns_data['headline'])])[['main','kicker','print_headline']]],axis = 1)\n",
    "print('Checking for null values')\n",
    "display({i:filtered_columns_data[i].isna().sum() for i in filtered_columns_data})\n",
    "print('Removing NULL values')\n",
    "display([filtered_columns_data[i].fillna('',inplace=True) for i in filtered_columns_data])\n",
    "print('Checking for null values')\n",
    "display({i:filtered_columns_data[i].isna().sum() for i in filtered_columns_data})\n",
    "\n",
    "text = []\n",
    "for j in range(filtered_columns_data.shape[0]):\n",
    "    str1=''\n",
    "    for i in [0,1,2,4,5,6]:\n",
    "        str1 += filtered_columns_data.iloc[j,i]\n",
    "    text.append(str1)\n",
    "# filtered_columns_data.iloc[:,5:]\n",
    "filtered_columns_data['text_in_article'] = text\n",
    "display(filtered_columns_data.columns)\n",
    "display(filtered_columns_data.shape)\n"
   ]
  },
  {
   "cell_type": "code",
   "execution_count": null,
   "metadata": {
    "vscode": {
     "languageId": "python"
    }
   },
   "outputs": [
    {
     "name": "stderr",
     "output_type": "stream",
     "text": [
      "Summarizing: 100%|███████████████████████████████████████████████████████████████████████████| 2712/2712 [55:23:43<00:00, 73.53s/it]\n"
     ]
    }
   ],
   "source": [
    "from tqdm import tqdm\n",
    "from concurrent.futures import ThreadPoolExecutor\n",
    "\n",
    "df = filtered_columns_data\n",
    "\n",
    "with ThreadPoolExecutor() as executor:\n",
    "    df['summary'] = list(tqdm(executor.map(summarize_text, df['text_in_article']), total=len(df), desc=\"Summarizing\"))\n",
    "\n"
   ]
  },
  {
   "cell_type": "code",
   "execution_count": null,
   "metadata": {
    "vscode": {
     "languageId": "python"
    }
   },
   "outputs": [],
   "source": [
    "# pip install tqdm\n",
    "df.to_csv('summarized_articles.csv')\n",
    "import pandas as pd\n",
    "from tqdm import tqdm\n",
    "\n",
    "tqdm.pandas()  # Register `tqdm` with pandas\n"
   ]
  },
  {
   "cell_type": "code",
   "execution_count": null,
   "metadata": {
    "vscode": {
     "languageId": "python"
    }
   },
   "outputs": [
    {
     "name": "stderr",
     "output_type": "stream",
     "text": [
      "100%|████████████████████████████████████████████████████████████████████████████████████████| 2712/2712 [17:08:09<00:00, 22.75s/it]\n"
     ]
    },
    {
     "data": {
      "text/html": [
       "<div>\n",
       "<style scoped>\n",
       "    .dataframe tbody tr th:only-of-type {\n",
       "        vertical-align: middle;\n",
       "    }\n",
       "\n",
       "    .dataframe tbody tr th {\n",
       "        vertical-align: top;\n",
       "    }\n",
       "\n",
       "    .dataframe thead th {\n",
       "        text-align: right;\n",
       "    }\n",
       "</style>\n",
       "<table border=\"1\" class=\"dataframe\">\n",
       "  <thead>\n",
       "    <tr style=\"text-align: right;\">\n",
       "      <th></th>\n",
       "      <th>abstract</th>\n",
       "      <th>snippet</th>\n",
       "      <th>lead_paragraph</th>\n",
       "      <th>pub_date</th>\n",
       "      <th>main</th>\n",
       "      <th>kicker</th>\n",
       "      <th>print_headline</th>\n",
       "      <th>text_in_article</th>\n",
       "      <th>summary</th>\n",
       "      <th>sentiment</th>\n",
       "      <th>neg</th>\n",
       "      <th>neu</th>\n",
       "      <th>pos</th>\n",
       "      <th>compound</th>\n",
       "    </tr>\n",
       "  </thead>\n",
       "  <tbody>\n",
       "    <tr>\n",
       "      <th>0</th>\n",
       "      <td>For all of its comments and reviews, does Trip...</td>\n",
       "      <td>For all of its comments and reviews, does Trip...</td>\n",
       "      <td>In October, on assignment to find the cheapest...</td>\n",
       "      <td>2013-01-01T16:37:28+0000</td>\n",
       "      <td>Using TripAdvisor? Some Advice</td>\n",
       "      <td>Frugal Traveler</td>\n",
       "      <td>Using TripAdvisor? Some Advice</td>\n",
       "      <td>For all of its comments and reviews, does Trip...</td>\n",
       "      <td>The article discusses whether TripAdvisor trul...</td>\n",
       "      <td>{'neg': '0.5', 'neu': '0.3', 'pos': '0.2', 'co...</td>\n",
       "      <td>0.5</td>\n",
       "      <td>0.3</td>\n",
       "      <td>0.2</td>\n",
       "      <td>0.6</td>\n",
       "    </tr>\n",
       "    <tr>\n",
       "      <th>1</th>\n",
       "      <td>Tips for using TripAdvisor, a bigger tax bite ...</td>\n",
       "      <td>Tips for using TripAdvisor, a bigger tax bite ...</td>\n",
       "      <td></td>\n",
       "      <td>2013-01-02T13:48:39+0000</td>\n",
       "      <td>Wednesday Reading: Tips for Using TripAdvisor</td>\n",
       "      <td>Bucks</td>\n",
       "      <td></td>\n",
       "      <td>Tips for using TripAdvisor, a bigger tax bite ...</td>\n",
       "      <td>The article provides tips for using the travel...</td>\n",
       "      <td>{'neg': '0.15', 'neu': '0.38', 'pos': '0.47', ...</td>\n",
       "      <td>0.15</td>\n",
       "      <td>0.38</td>\n",
       "      <td>0.47</td>\n",
       "      <td>0.02</td>\n",
       "    </tr>\n",
       "    <tr>\n",
       "      <th>2</th>\n",
       "      <td>On the morning of New Year’s Day, many iPhone ...</td>\n",
       "      <td>On the morning of New Year’s Day, many iPhone ...</td>\n",
       "      <td>2:01 p.m. | Updated  Adding response from Apple.</td>\n",
       "      <td>2013-01-02T18:55:25+0000</td>\n",
       "      <td>The iPhone Goofs Up on Telling Time, Again</td>\n",
       "      <td>Bits</td>\n",
       "      <td></td>\n",
       "      <td>On the morning of New Year’s Day, many iPhone ...</td>\n",
       "      <td>On New Year's Day, a bug affected the Do Not D...</td>\n",
       "      <td>{'neg': '0.67', 'neu': '0.33', 'pos': '0.0', '...</td>\n",
       "      <td>0.67</td>\n",
       "      <td>0.33</td>\n",
       "      <td>0.0</td>\n",
       "      <td>0</td>\n",
       "    </tr>\n",
       "    <tr>\n",
       "      <th>3</th>\n",
       "      <td>Cygnett, an Australian maker of gadget accesso...</td>\n",
       "      <td>Cygnett, an Australian maker of gadget accesso...</td>\n",
       "      <td>Cygnett, an Australian maker of gadget accesso...</td>\n",
       "      <td>2013-01-03T12:19:33+0000</td>\n",
       "      <td>Protect Your iPhone With a Vision From Australia</td>\n",
       "      <td>Gadgetwise</td>\n",
       "      <td>Protect Your Phone With a Vision From Australia</td>\n",
       "      <td>Cygnett, an Australian maker of gadget accesso...</td>\n",
       "      <td>Cygnett, an Australian company, has partnered ...</td>\n",
       "      <td>{'neg': '0.3', 'neu': '0.7', 'pos': '1.0', 'co...</td>\n",
       "      <td>0.3</td>\n",
       "      <td>0.7</td>\n",
       "      <td>1.0</td>\n",
       "      <td>1.0</td>\n",
       "    </tr>\n",
       "    <tr>\n",
       "      <th>4</th>\n",
       "      <td>MediaTek of Taiwan not only provides manufactu...</td>\n",
       "      <td>MediaTek of Taiwan not only provides manufactu...</td>\n",
       "      <td>TAIPEI — In the China smartphone market, Apple...</td>\n",
       "      <td>2013-01-07T03:04:20+0000</td>\n",
       "      <td>Providing a Template to Challenge Apple</td>\n",
       "      <td></td>\n",
       "      <td>MediaTek Chips Change China’s Smartphone Market</td>\n",
       "      <td>MediaTek of Taiwan not only provides manufactu...</td>\n",
       "      <td>MediaTek, a Taiwan-based company, provides not...</td>\n",
       "      <td>{'neg': '0.17', 'neu': '0.83', 'pos': '0.94', ...</td>\n",
       "      <td>0.17</td>\n",
       "      <td>0.83</td>\n",
       "      <td>0.94</td>\n",
       "      <td>0.65</td>\n",
       "    </tr>\n",
       "  </tbody>\n",
       "</table>\n",
       "</div>"
      ],
      "text/plain": [
       "                                            abstract  \\\n",
       "0  For all of its comments and reviews, does Trip...   \n",
       "1  Tips for using TripAdvisor, a bigger tax bite ...   \n",
       "2  On the morning of New Year’s Day, many iPhone ...   \n",
       "3  Cygnett, an Australian maker of gadget accesso...   \n",
       "4  MediaTek of Taiwan not only provides manufactu...   \n",
       "\n",
       "                                             snippet  \\\n",
       "0  For all of its comments and reviews, does Trip...   \n",
       "1  Tips for using TripAdvisor, a bigger tax bite ...   \n",
       "2  On the morning of New Year’s Day, many iPhone ...   \n",
       "3  Cygnett, an Australian maker of gadget accesso...   \n",
       "4  MediaTek of Taiwan not only provides manufactu...   \n",
       "\n",
       "                                      lead_paragraph  \\\n",
       "0  In October, on assignment to find the cheapest...   \n",
       "1                                                      \n",
       "2   2:01 p.m. | Updated  Adding response from Apple.   \n",
       "3  Cygnett, an Australian maker of gadget accesso...   \n",
       "4  TAIPEI — In the China smartphone market, Apple...   \n",
       "\n",
       "                   pub_date                                              main  \\\n",
       "0  2013-01-01T16:37:28+0000                    Using TripAdvisor? Some Advice   \n",
       "1  2013-01-02T13:48:39+0000     Wednesday Reading: Tips for Using TripAdvisor   \n",
       "2  2013-01-02T18:55:25+0000        The iPhone Goofs Up on Telling Time, Again   \n",
       "3  2013-01-03T12:19:33+0000  Protect Your iPhone With a Vision From Australia   \n",
       "4  2013-01-07T03:04:20+0000           Providing a Template to Challenge Apple   \n",
       "\n",
       "            kicker                                   print_headline  \\\n",
       "0  Frugal Traveler                   Using TripAdvisor? Some Advice   \n",
       "1            Bucks                                                    \n",
       "2             Bits                                                    \n",
       "3       Gadgetwise  Protect Your Phone With a Vision From Australia   \n",
       "4                   MediaTek Chips Change China’s Smartphone Market   \n",
       "\n",
       "                                     text_in_article  \\\n",
       "0  For all of its comments and reviews, does Trip...   \n",
       "1  Tips for using TripAdvisor, a bigger tax bite ...   \n",
       "2  On the morning of New Year’s Day, many iPhone ...   \n",
       "3  Cygnett, an Australian maker of gadget accesso...   \n",
       "4  MediaTek of Taiwan not only provides manufactu...   \n",
       "\n",
       "                                             summary  \\\n",
       "0  The article discusses whether TripAdvisor trul...   \n",
       "1  The article provides tips for using the travel...   \n",
       "2  On New Year's Day, a bug affected the Do Not D...   \n",
       "3  Cygnett, an Australian company, has partnered ...   \n",
       "4  MediaTek, a Taiwan-based company, provides not...   \n",
       "\n",
       "                                           sentiment   neg   neu   pos  \\\n",
       "0  {'neg': '0.5', 'neu': '0.3', 'pos': '0.2', 'co...   0.5   0.3   0.2   \n",
       "1  {'neg': '0.15', 'neu': '0.38', 'pos': '0.47', ...  0.15  0.38  0.47   \n",
       "2  {'neg': '0.67', 'neu': '0.33', 'pos': '0.0', '...  0.67  0.33   0.0   \n",
       "3  {'neg': '0.3', 'neu': '0.7', 'pos': '1.0', 'co...   0.3   0.7   1.0   \n",
       "4  {'neg': '0.17', 'neu': '0.83', 'pos': '0.94', ...  0.17  0.83  0.94   \n",
       "\n",
       "  compound  \n",
       "0      0.6  \n",
       "1     0.02  \n",
       "2        0  \n",
       "3      1.0  \n",
       "4     0.65  "
      ]
     },
     "execution_count": 11,
     "metadata": {},
     "output_type": "execute_result"
    }
   ],
   "source": [
    "df['sentiment'] = df['summary'].progress_apply(analyze_sentiment)\n",
    "df_sentiment = df['sentiment'].apply(pd.Series)\n",
    "df = pd.concat([df, df_sentiment], axis=1)\n",
    "df.head(5)"
   ]
  },
  {
   "cell_type": "code",
   "execution_count": null,
   "metadata": {
    "vscode": {
     "languageId": "python"
    }
   },
   "outputs": [],
   "source": [
    "df.to_csv('articles_sentiment_llm.csv')"
   ]
  },
  {
   "cell_type": "code",
   "execution_count": null,
   "metadata": {
    "vscode": {
     "languageId": "python"
    }
   },
   "outputs": [],
   "source": []
  }
 ],
 "metadata": {
  "kernelspec": {
   "display_name": "Python 3 (ipykernel)",
   "language": "python",
   "name": "python3"
  },
  "language_info": {
   "name": "",
   "version": ""
  }
 },
 "nbformat": 4,
 "nbformat_minor": 2
}
