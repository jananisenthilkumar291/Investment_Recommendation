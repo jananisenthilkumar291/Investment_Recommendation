{
 "cells": [
  {
   "cell_type": "code",
   "execution_count": null,
   "metadata": {},
   "outputs": [],
   "source": [
    "import requests\n",
    "from datetime import datetime\n",
    "import time\n",
    "\n",
    "\n",
    "api_key = \"nSJlJTCMVqCArRKWgg3W4tK9LenCmsMd\"\n",
    "base_url = \"https://api.nytimes.com/svc/archive/v1/{year}/{month}.json\"\n",
    "\n",
    "start_year = 2013\n",
    "start_month = 1\n",
    "end_year = datetime.now().year\n",
    "end_month = datetime.now().month\n",
    "search_keywords = ['Apple', 'iPhone', 'MacBook', 'iPad', 'Apple Watch', 'iOS', 'MacOS']\n",
    "\n",
    "all_articles = []\n",
    "\n",
    "for year in range(start_year, end_year + 1):\n",
    "    for month in range(1, 13):\n",
    "        if year == start_year and month < start_month:\n",
    "            continue\n",
    "        if year == end_year and month > end_month:\n",
    "            break\n",
    "\n",
    "        print(f\"Fetching articles for {year}-{month}...\") \n",
    "        url = base_url.format(year=year, month=month)\n",
    "        params = {'api-key': api_key}\n",
    "        response = requests.get(url, params=params)\n",
    "        \n",
    "        if response.status_code == 200:\n",
    "            data = response.json()\n",
    "            articles = data['response']['docs']\n",
    "            \n",
    "            for article in articles:\n",
    "                for keyword in search_keywords:\n",
    "                    if keyword.lower() in article['headline']['main'].lower():\n",
    "                        all_articles.append(article)\n",
    "                        break  \n",
    "            \n",
    "            print(f\"Found {len(articles)} articles in {year}-{month}\")\n",
    "        elif response.status_code == 429:\n",
    "            print(f\"Rate limit hit: Error 429 for {year}-{month}. Waiting for 60 seconds...\")\n",
    "            time.sleep(60) \n",
    "            continue\n",
    "        else:\n",
    "            print(f\"Error fetching articles for {year}-{month}: {response.status_code}\")\n",
    "            break\n",
    "\n",
    "        time.sleep(6)\n",
    "\n",
    "print(f\"Total articles related to Apple products: {len(all_articles)}\")"
   ]
  },
  {
   "cell_type": "code",
   "execution_count": null,
   "metadata": {},
   "outputs": [],
   "source": [
    "import pandas as pd\n",
    "\n",
    "pd.DataFrame(all_articles).to_csv('Apple_News_Articles_2013_1_2024_10.csv')"
   ]
  },
  {
   "cell_type": "code",
   "execution_count": null,
   "metadata": {},
   "outputs": [],
   "source": [
    "# !pip install pandas"
   ]
  },
  {
   "cell_type": "code",
   "execution_count": 1,
   "metadata": {},
   "outputs": [],
   "source": [
    "import warnings\n",
    "warnings.filterwarnings('ignore')"
   ]
  },
  {
   "cell_type": "code",
   "execution_count": 2,
   "metadata": {},
   "outputs": [],
   "source": [
    "import pandas as pd\n",
    "news_data = pd.read_csv('Apple_News_Articles_2013_1_2024_10.csv')"
   ]
  },
  {
   "cell_type": "code",
   "execution_count": 3,
   "metadata": {},
   "outputs": [
    {
     "data": {
      "text/plain": [
       "(2712, 21)"
      ]
     },
     "execution_count": 3,
     "metadata": {},
     "output_type": "execute_result"
    }
   ],
   "source": [
    "news_data.shape"
   ]
  },
  {
   "cell_type": "code",
   "execution_count": 4,
   "metadata": {},
   "outputs": [
    {
     "data": {
      "text/plain": [
       "Index(['Unnamed: 0', 'abstract', 'web_url', 'snippet', 'lead_paragraph',\n",
       "       'print_section', 'print_page', 'source', 'multimedia', 'headline',\n",
       "       'keywords', 'pub_date', 'document_type', 'news_desk', 'section_name',\n",
       "       'byline', 'type_of_material', '_id', 'word_count', 'uri',\n",
       "       'subsection_name'],\n",
       "      dtype='object')"
      ]
     },
     "execution_count": 4,
     "metadata": {},
     "output_type": "execute_result"
    }
   ],
   "source": [
    "news_data.columns"
   ]
  },
  {
   "cell_type": "code",
   "execution_count": 5,
   "metadata": {},
   "outputs": [
    {
     "data": {
      "text/plain": [
       "(2712, 21)"
      ]
     },
     "execution_count": 5,
     "metadata": {},
     "output_type": "execute_result"
    }
   ],
   "source": [
    "news_data.shape"
   ]
  },
  {
   "cell_type": "code",
   "execution_count": 6,
   "metadata": {},
   "outputs": [
    {
     "name": "stdout",
     "output_type": "stream",
     "text": [
      "Checking for null values\n"
     ]
    },
    {
     "data": {
      "text/plain": [
       "{'abstract': 3,\n",
       " 'snippet': 20,\n",
       " 'lead_paragraph': 14,\n",
       " 'pub_date': 0,\n",
       " 'main': 0,\n",
       " 'kicker': 1569,\n",
       " 'print_headline': 0}"
      ]
     },
     "metadata": {},
     "output_type": "display_data"
    },
    {
     "name": "stdout",
     "output_type": "stream",
     "text": [
      "Removing NULL values\n"
     ]
    },
    {
     "data": {
      "text/plain": [
       "[None, None, None, None, None, None, None]"
      ]
     },
     "metadata": {},
     "output_type": "display_data"
    },
    {
     "name": "stdout",
     "output_type": "stream",
     "text": [
      "Checking for null values\n"
     ]
    },
    {
     "data": {
      "text/plain": [
       "{'abstract': 0,\n",
       " 'snippet': 0,\n",
       " 'lead_paragraph': 0,\n",
       " 'pub_date': 0,\n",
       " 'main': 0,\n",
       " 'kicker': 0,\n",
       " 'print_headline': 0}"
      ]
     },
     "metadata": {},
     "output_type": "display_data"
    }
   ],
   "source": [
    "filtered_columns_data = news_data[['abstract','snippet','lead_paragraph','headline','pub_date']]\n",
    "import ast\n",
    "filtered_columns_data = pd.concat([filtered_columns_data.drop('headline',axis = 1),pd.json_normalize([ast.literal_eval(item) for item in list(filtered_columns_data['headline'])])[['main','kicker','print_headline']]],axis = 1)\n",
    "print('Checking for null values')\n",
    "display({i:filtered_columns_data[i].isna().sum() for i in filtered_columns_data})\n",
    "print('Removing NULL values')\n",
    "display([filtered_columns_data[i].fillna('',inplace=True) for i in filtered_columns_data])\n",
    "print('Checking for null values')\n",
    "display({i:filtered_columns_data[i].isna().sum() for i in filtered_columns_data})"
   ]
  },
  {
   "cell_type": "code",
   "execution_count": 7,
   "metadata": {},
   "outputs": [
    {
     "data": {
      "text/plain": [
       "Index(['abstract', 'snippet', 'lead_paragraph', 'pub_date', 'main', 'kicker',\n",
       "       'print_headline', 'text_in_article'],\n",
       "      dtype='object')"
      ]
     },
     "metadata": {},
     "output_type": "display_data"
    },
    {
     "data": {
      "text/plain": [
       "(2712, 8)"
      ]
     },
     "metadata": {},
     "output_type": "display_data"
    }
   ],
   "source": [
    "text = []\n",
    "for j in range(filtered_columns_data.shape[0]):\n",
    "    str1=''\n",
    "    for i in [0,1,2,4,5,6]:\n",
    "        str1 += filtered_columns_data.iloc[j,i]\n",
    "    text.append(str1)\n",
    "# filtered_columns_data.iloc[:,5:]\n",
    "filtered_columns_data['text_in_article'] = text\n",
    "display(filtered_columns_data.columns)\n",
    "display(filtered_columns_data.shape)\n"
   ]
  },
  {
   "cell_type": "code",
   "execution_count": null,
   "metadata": {},
   "outputs": [
    {
     "name": "stdout",
     "output_type": "stream",
     "text": [
      "Requirement already satisfied: tqdm in c:\\users\\janan\\appdata\\local\\programs\\python\\python311\\lib\\site-packages (4.66.5)"
     ]
    },
    {
     "name": "stderr",
     "output_type": "stream",
     "text": [
      "WARNING: Ignoring invalid distribution ~umpy (C:\\Users\\janan\\AppData\\Local\\Programs\\Python\\Python311\\Lib\\site-packages)\n",
      "WARNING: Ignoring invalid distribution ~umpy (C:\\Users\\janan\\AppData\\Local\\Programs\\Python\\Python311\\Lib\\site-packages)\n",
      "WARNING: Ignoring invalid distribution ~umpy (C:\\Users\\janan\\AppData\\Local\\Programs\\Python\\Python311\\Lib\\site-packages)\n",
      "\n",
      "[notice] A new release of pip is available: 24.2 -> 24.3.1\n",
      "[notice] To update, run: C:\\Users\\janan\\AppData\\Local\\Programs\\Python\\Python311\\python.exe -m pip install --upgrade pip\n"
     ]
    },
    {
     "name": "stdout",
     "output_type": "stream",
     "text": [
      "\n",
      "Requirement already satisfied: colorama in c:\\users\\janan\\appdata\\local\\programs\\python\\python311\\lib\\site-packages (from tqdm) (0.4.6)\n"
     ]
    }
   ],
   "source": [
    "# !pip install transformers\n",
    "# !pip install tf-keras\n",
    "# !pip install tqdm\n"
   ]
  },
  {
   "cell_type": "code",
   "execution_count": null,
   "metadata": {},
   "outputs": [],
   "source": [
    "import pandas as pd\n",
    "from transformers import pipeline\n",
    "from nltk.sentiment.vader import SentimentIntensityAnalyzer\n",
    "import nltk\n",
    "from tqdm import tqdm\n",
    "from concurrent.futures import ThreadPoolExecutor\n",
    "\n",
    "# Setup tqdm to show progress in apply functions\n",
    "tqdm.pandas()\n",
    "\n",
    "# Download necessary NLTK data\n",
    "# nltk.download('vader_lexicon')\n",
    "\n",
    "# Initialize Sentiment Analyzer and Summarizer\n",
    "sid = SentimentIntensityAnalyzer()\n",
    "summarizer = pipeline(\"summarization\", model=\"facebook/bart-large-cnn\")\n",
    "\n",
    "# Placeholder for your filtered data\n",
    "df = filtered_columns_data\n",
    "\n",
    "# Define functions for summarization and sentiment analysis\n",
    "def get_dynamic_lengths(text):\n",
    "    input_length = len(text.split())  \n",
    "    dynamic_max_length = min(100, int(input_length / 2))\n",
    "    dynamic_min_length = min(dynamic_max_length - 10, 25) \n",
    "    return dynamic_max_length, dynamic_min_length\n",
    "\n",
    "def summarize_text(text):\n",
    "    if len(text) > 50:\n",
    "        dynamic_max_length, dynamic_min_length = get_dynamic_lengths(text)\n",
    "        summary = summarizer(text, max_length=dynamic_max_length, min_length=dynamic_min_length, do_sample=False)\n",
    "        return summary[0]['summary_text']\n",
    "    return text\n",
    "\n",
    "def get_sentiment(text):\n",
    "    return sid.polarity_scores(text)\n",
    "\n",
    "# Step 1: Summarize Text with Progress Bar and Parallel Processing\n",
    "with ThreadPoolExecutor() as executor:\n",
    "    df['summary'] = list(tqdm(executor.map(summarize_text, df['text_in_article']), total=len(df), desc=\"Summarizing\"))\n",
    "\n",
    "# Step 2: Perform Sentiment Analysis with Progress Bar\n",
    "df['sentiment'] = df['summary'].progress_apply(get_sentiment)\n",
    "df_sentiment = df['sentiment'].apply(pd.Series)\n",
    "df = pd.concat([df, df_sentiment], axis=1)\n",
    "\n",
    "# sentiment_by_date = df.groupby('pub_date').mean()\n",
    "# print(sentiment_by_date)\n"
   ]
  },
  {
   "cell_type": "code",
   "execution_count": 15,
   "metadata": {},
   "outputs": [],
   "source": [
    "# import pandas as pd\n",
    "# from transformers import pipeline\n",
    "# from nltk.sentiment.vader import SentimentIntensityAnalyzer\n",
    "# import nltk\n",
    "\n",
    "# # nltk.download('vader_lexicon')\n",
    "# sid = SentimentIntensityAnalyzer()\n",
    "# summarizer = pipeline(\"summarization\", model=\"facebook/bart-large-cnn\") # ,framework='pt'\n",
    "\n",
    "# df = filtered_columns_data\n",
    "\n",
    "# def get_dynamic_lengths(text):\n",
    "#     input_length = len(text.split())  \n",
    "#     dynamic_max_length = min(100, int(input_length / 2))\n",
    "#     dynamic_min_length = min(dynamic_max_length - 10, 25) \n",
    "#     return dynamic_max_length, dynamic_min_length\n",
    "\n",
    "# def summarize_text(text):\n",
    "#     if len(text) > 50:\n",
    "#         dynamic_max_length, dynamic_min_length = get_dynamic_lengths(text)\n",
    "\n",
    "#         summary = summarizer(text, max_length=dynamic_max_length, min_length=dynamic_min_length, do_sample=False)\n",
    "#         return summary[0]['summary_text']\n",
    "#     return text  \n",
    "\n",
    "# def get_sentiment(text):\n",
    "#     return sid.polarity_scores(text)\n",
    "\n",
    "# df['summary'] = df['text_in_article'].apply(summarize_text)\n",
    "# df['sentiment'] = df['summary'].apply(get_sentiment)\n",
    "# df_sentiment = df['sentiment'].apply(pd.Series)\n",
    "\n",
    "# df = pd.concat([df, df_sentiment], axis=1)\n",
    "\n",
    "# sentiment_by_date = df.groupby('pub_date').mean()\n",
    "# print(sentiment_by_date)\n"
   ]
  },
  {
   "cell_type": "code",
   "execution_count": 14,
   "metadata": {},
   "outputs": [],
   "source": [
    "df.to_csv('articles_sentiment.csv')"
   ]
  },
  {
   "cell_type": "code",
   "execution_count": 13,
   "metadata": {},
   "outputs": [
    {
     "data": {
      "text/html": [
       "<div>\n",
       "<style scoped>\n",
       "    .dataframe tbody tr th:only-of-type {\n",
       "        vertical-align: middle;\n",
       "    }\n",
       "\n",
       "    .dataframe tbody tr th {\n",
       "        vertical-align: top;\n",
       "    }\n",
       "\n",
       "    .dataframe thead th {\n",
       "        text-align: right;\n",
       "    }\n",
       "</style>\n",
       "<table border=\"1\" class=\"dataframe\">\n",
       "  <thead>\n",
       "    <tr style=\"text-align: right;\">\n",
       "      <th></th>\n",
       "      <th>abstract</th>\n",
       "      <th>snippet</th>\n",
       "      <th>lead_paragraph</th>\n",
       "      <th>pub_date</th>\n",
       "      <th>main</th>\n",
       "      <th>kicker</th>\n",
       "      <th>print_headline</th>\n",
       "      <th>text_in_article</th>\n",
       "      <th>summary</th>\n",
       "      <th>sentiment</th>\n",
       "      <th>neg</th>\n",
       "      <th>neu</th>\n",
       "      <th>pos</th>\n",
       "      <th>compound</th>\n",
       "    </tr>\n",
       "  </thead>\n",
       "  <tbody>\n",
       "    <tr>\n",
       "      <th>0</th>\n",
       "      <td>For all of its comments and reviews, does Trip...</td>\n",
       "      <td>For all of its comments and reviews, does Trip...</td>\n",
       "      <td>In October, on assignment to find the cheapest...</td>\n",
       "      <td>2013-01-01T16:37:28+0000</td>\n",
       "      <td>Using TripAdvisor? Some Advice</td>\n",
       "      <td>Frugal Traveler</td>\n",
       "      <td>Using TripAdvisor? Some Advice</td>\n",
       "      <td>For all of its comments and reviews, does Trip...</td>\n",
       "      <td>Using TripAdvisor? Some Advice. The Frugal Tra...</td>\n",
       "      <td>{'neg': 0.0, 'neu': 0.779, 'pos': 0.221, 'comp...</td>\n",
       "      <td>0.000</td>\n",
       "      <td>0.779</td>\n",
       "      <td>0.221</td>\n",
       "      <td>0.8374</td>\n",
       "    </tr>\n",
       "    <tr>\n",
       "      <th>1</th>\n",
       "      <td>Tips for using TripAdvisor, a bigger tax bite ...</td>\n",
       "      <td>Tips for using TripAdvisor, a bigger tax bite ...</td>\n",
       "      <td></td>\n",
       "      <td>2013-01-02T13:48:39+0000</td>\n",
       "      <td>Wednesday Reading: Tips for Using TripAdvisor</td>\n",
       "      <td>Bucks</td>\n",
       "      <td></td>\n",
       "      <td>Tips for using TripAdvisor, a bigger tax bite ...</td>\n",
       "      <td>Tips for using TripAdvisor, a bigger tax bite ...</td>\n",
       "      <td>{'neg': 0.0, 'neu': 0.85, 'pos': 0.15, 'compou...</td>\n",
       "      <td>0.000</td>\n",
       "      <td>0.850</td>\n",
       "      <td>0.150</td>\n",
       "      <td>0.5719</td>\n",
       "    </tr>\n",
       "    <tr>\n",
       "      <th>2</th>\n",
       "      <td>On the morning of New Year’s Day, many iPhone ...</td>\n",
       "      <td>On the morning of New Year’s Day, many iPhone ...</td>\n",
       "      <td>2:01 p.m. | Updated  Adding response from Apple.</td>\n",
       "      <td>2013-01-02T18:55:25+0000</td>\n",
       "      <td>The iPhone Goofs Up on Telling Time, Again</td>\n",
       "      <td>Bits</td>\n",
       "      <td></td>\n",
       "      <td>On the morning of New Year’s Day, many iPhone ...</td>\n",
       "      <td>On the morning of New Year’s Day, many iPhone ...</td>\n",
       "      <td>{'neg': 0.052, 'neu': 0.783, 'pos': 0.165, 'co...</td>\n",
       "      <td>0.052</td>\n",
       "      <td>0.783</td>\n",
       "      <td>0.165</td>\n",
       "      <td>0.5358</td>\n",
       "    </tr>\n",
       "    <tr>\n",
       "      <th>3</th>\n",
       "      <td>Cygnett, an Australian maker of gadget accesso...</td>\n",
       "      <td>Cygnett, an Australian maker of gadget accesso...</td>\n",
       "      <td>Cygnett, an Australian maker of gadget accesso...</td>\n",
       "      <td>2013-01-03T12:19:33+0000</td>\n",
       "      <td>Protect Your iPhone With a Vision From Australia</td>\n",
       "      <td>Gadgetwise</td>\n",
       "      <td>Protect Your Phone With a Vision From Australia</td>\n",
       "      <td>Cygnett, an Australian maker of gadget accesso...</td>\n",
       "      <td>Cygnett, an Australian maker of gadget accesso...</td>\n",
       "      <td>{'neg': 0.0, 'neu': 0.806, 'pos': 0.194, 'comp...</td>\n",
       "      <td>0.000</td>\n",
       "      <td>0.806</td>\n",
       "      <td>0.194</td>\n",
       "      <td>0.7184</td>\n",
       "    </tr>\n",
       "    <tr>\n",
       "      <th>4</th>\n",
       "      <td>MediaTek of Taiwan not only provides manufactu...</td>\n",
       "      <td>MediaTek of Taiwan not only provides manufactu...</td>\n",
       "      <td>TAIPEI — In the China smartphone market, Apple...</td>\n",
       "      <td>2013-01-07T03:04:20+0000</td>\n",
       "      <td>Providing a Template to Challenge Apple</td>\n",
       "      <td></td>\n",
       "      <td>MediaTek Chips Change China’s Smartphone Market</td>\n",
       "      <td>MediaTek of Taiwan not only provides manufactu...</td>\n",
       "      <td>MediaTek of Taiwan provides manufacturers with...</td>\n",
       "      <td>{'neg': 0.053, 'neu': 0.947, 'pos': 0.0, 'comp...</td>\n",
       "      <td>0.053</td>\n",
       "      <td>0.947</td>\n",
       "      <td>0.000</td>\n",
       "      <td>-0.1280</td>\n",
       "    </tr>\n",
       "  </tbody>\n",
       "</table>\n",
       "</div>"
      ],
      "text/plain": [
       "                                            abstract  \\\n",
       "0  For all of its comments and reviews, does Trip...   \n",
       "1  Tips for using TripAdvisor, a bigger tax bite ...   \n",
       "2  On the morning of New Year’s Day, many iPhone ...   \n",
       "3  Cygnett, an Australian maker of gadget accesso...   \n",
       "4  MediaTek of Taiwan not only provides manufactu...   \n",
       "\n",
       "                                             snippet  \\\n",
       "0  For all of its comments and reviews, does Trip...   \n",
       "1  Tips for using TripAdvisor, a bigger tax bite ...   \n",
       "2  On the morning of New Year’s Day, many iPhone ...   \n",
       "3  Cygnett, an Australian maker of gadget accesso...   \n",
       "4  MediaTek of Taiwan not only provides manufactu...   \n",
       "\n",
       "                                      lead_paragraph  \\\n",
       "0  In October, on assignment to find the cheapest...   \n",
       "1                                                      \n",
       "2   2:01 p.m. | Updated  Adding response from Apple.   \n",
       "3  Cygnett, an Australian maker of gadget accesso...   \n",
       "4  TAIPEI — In the China smartphone market, Apple...   \n",
       "\n",
       "                   pub_date                                              main  \\\n",
       "0  2013-01-01T16:37:28+0000                    Using TripAdvisor? Some Advice   \n",
       "1  2013-01-02T13:48:39+0000     Wednesday Reading: Tips for Using TripAdvisor   \n",
       "2  2013-01-02T18:55:25+0000        The iPhone Goofs Up on Telling Time, Again   \n",
       "3  2013-01-03T12:19:33+0000  Protect Your iPhone With a Vision From Australia   \n",
       "4  2013-01-07T03:04:20+0000           Providing a Template to Challenge Apple   \n",
       "\n",
       "            kicker                                   print_headline  \\\n",
       "0  Frugal Traveler                   Using TripAdvisor? Some Advice   \n",
       "1            Bucks                                                    \n",
       "2             Bits                                                    \n",
       "3       Gadgetwise  Protect Your Phone With a Vision From Australia   \n",
       "4                   MediaTek Chips Change China’s Smartphone Market   \n",
       "\n",
       "                                     text_in_article  \\\n",
       "0  For all of its comments and reviews, does Trip...   \n",
       "1  Tips for using TripAdvisor, a bigger tax bite ...   \n",
       "2  On the morning of New Year’s Day, many iPhone ...   \n",
       "3  Cygnett, an Australian maker of gadget accesso...   \n",
       "4  MediaTek of Taiwan not only provides manufactu...   \n",
       "\n",
       "                                             summary  \\\n",
       "0  Using TripAdvisor? Some Advice. The Frugal Tra...   \n",
       "1  Tips for using TripAdvisor, a bigger tax bite ...   \n",
       "2  On the morning of New Year’s Day, many iPhone ...   \n",
       "3  Cygnett, an Australian maker of gadget accesso...   \n",
       "4  MediaTek of Taiwan provides manufacturers with...   \n",
       "\n",
       "                                           sentiment    neg    neu    pos  \\\n",
       "0  {'neg': 0.0, 'neu': 0.779, 'pos': 0.221, 'comp...  0.000  0.779  0.221   \n",
       "1  {'neg': 0.0, 'neu': 0.85, 'pos': 0.15, 'compou...  0.000  0.850  0.150   \n",
       "2  {'neg': 0.052, 'neu': 0.783, 'pos': 0.165, 'co...  0.052  0.783  0.165   \n",
       "3  {'neg': 0.0, 'neu': 0.806, 'pos': 0.194, 'comp...  0.000  0.806  0.194   \n",
       "4  {'neg': 0.053, 'neu': 0.947, 'pos': 0.0, 'comp...  0.053  0.947  0.000   \n",
       "\n",
       "   compound  \n",
       "0    0.8374  \n",
       "1    0.5719  \n",
       "2    0.5358  \n",
       "3    0.7184  \n",
       "4   -0.1280  "
      ]
     },
     "execution_count": 13,
     "metadata": {},
     "output_type": "execute_result"
    }
   ],
   "source": [
    "df.head()"
   ]
  },
  {
   "cell_type": "code",
   "execution_count": null,
   "metadata": {},
   "outputs": [],
   "source": []
  }
 ],
 "metadata": {
  "kernelspec": {
   "display_name": "Python 3 (ipykernel)",
   "language": "python",
   "name": "python3"
  },
  "language_info": {
   "codemirror_mode": {
    "name": "ipython",
    "version": 3
   },
   "file_extension": ".py",
   "mimetype": "text/x-python",
   "name": "python",
   "nbconvert_exporter": "python",
   "pygments_lexer": "ipython3",
   "version": "3.11.8"
  }
 },
 "nbformat": 4,
 "nbformat_minor": 2
}
